{
 "cells": [
  {
   "cell_type": "code",
   "execution_count": 1,
   "metadata": {},
   "outputs": [],
   "source": [
    "#nbi:hide_in\n",
    "import numpy as np\n",
    "import ipywidgets as ipw\n",
    "import matplotlib\n",
    "import matplotlib.pyplot as plt\n",
    "import sympy\n",
    "from sympy import Symbol, nsolve, log, lambdify\n",
    "import warnings\n",
    "warnings.filterwarnings(\"ignore\")"
   ]
  },
  {
   "cell_type": "markdown",
   "metadata": {},
   "source": [
    "\n",
    "# Flory Huggins equation \n",
    "\n",
    "The Flory Huggins equation is given by:\n",
    "\n",
    "$$\n",
    "\\Delta \\bar F_{mix} =kT(\\chi\\phi(1.-\\phi) + \\phi/N_A\\ln(\\phi) + (1-\\phi)/N_B*\\ln(1-\\phi))\n",
    "$$\n",
    "\n",
    "We will plot $\\Delta \\bar F_{mix}$ for various values of $N_A$,$N_B$, and $\\chi$. For simplicity, we'll set $kT=1$ for the next section. \n",
    "\n",
    "## Common tangent construction\n",
    "\n",
    "Now we would like to find the phase boundaries from the free energy expression given above. We can use the common tanget construction for that. Here, we solve it nummerically. Note that the spinodal and some special cases for the binodal have analytical solutions, as you have shown in previous homeworks.\n",
    "The red dots correspond to the binodal ($\\phi'$ and $\\phi''$) and the green dots ($\\phi_{sp}'$ and $\\phi_{sp}''$) to the spinodal.\n"
   ]
  },
  {
   "cell_type": "code",
   "execution_count": 3,
   "metadata": {
    "scrolled": true
   },
   "outputs": [
    {
     "data": {
      "application/vnd.jupyter.widget-view+json": {
       "model_id": "fda35fae0aff4e0b8fec095e143d1e68",
       "version_major": 2,
       "version_minor": 0
      },
      "text/plain": [
       "interactive(children=(IntSlider(value=100, description='NA', max=1000, min=10, step=10), IntSlider(value=100, …"
      ]
     },
     "metadata": {},
     "output_type": "display_data"
    }
   ],
   "source": [
    "#nbi:hide_in\n",
    "    \n",
    "def F_mix(phi,NA,NB,chi,kT):\n",
    "    return kT*(chi*phi*(1.-phi) + phi/NA*np.log(phi) + (1.-phi)/NB*np.log(1-phi))\n",
    "\n",
    "def F_mix_s(phi,NA,NB,chi,kT):\n",
    "    return kT*(chi*phi*(1.-phi) + phi/NA*log(phi) + (1.-phi)/NB*log(1-phi))\n",
    "\n",
    "def d_F_mix_s(phi,NA,NB,chi,kT):\n",
    "    return kT*(chi*(1.-2*phi) + 1/NA*log(phi)+ 1/NA -1/NB -1/NB*log(1-phi))\n",
    "\n",
    "def solve_tangent(NA,NB,chi,kT):\n",
    "    \n",
    "    x1 = Symbol('x1', real=True)\n",
    "    x2 = Symbol('x2', real=True)\n",
    "    y1 = Symbol('y1', real=True)\n",
    "    y2 = Symbol('y2', real=True)\n",
    "    \n",
    "    try:\n",
    "        sol = nsolve((\n",
    "        y1-F_mix_s(x1,NA,NB,chi,kT),\n",
    "        y2-F_mix_s(x2,NA,NB,chi,kT), \n",
    "        d_F_mix_s(x1,NA,NB,chi,kT)-d_F_mix_s(x2,NA,NB,chi,kT),\n",
    "        d_F_mix_s(x1,NA,NB,chi,kT)-(y2-y1)/(x2-x1)),\n",
    "        (x1,x2,y1,y2),(0.01,0.99,-0.01,-0.01))\n",
    "        \n",
    "    except: \n",
    "        sol=[np.nan,np.nan,np.nan,np.nan]\n",
    "    return sol \n",
    "\n",
    "def solve_spinodal(NA,NB,chi,kT):\n",
    "    try:\n",
    "        x1 = -(NA - NB - 2*NA*NB*chi + np.sqrt(-8*NA*NB**2*chi + (-NA + NB + 2*NA*NB*chi)**2))/(4*NA*NB*chi)\n",
    "        x2 = (-NA + NB + 2*NA*NB*chi + np.sqrt(-8*NA*NB**2*chi + (-NA + NB + 2*NA*NB*chi)**2))/(4*NA*NB*chi)\n",
    "        y1 = F_mix_s(x1,NA,NB,chi,kT)\n",
    "        y2 = F_mix_s(x2,NA,NB,chi,kT)\n",
    "        sol = [x1,x2,y1,y2]\n",
    "    except:\n",
    "        sol=[np.nan,np.nan,np.nan,np.nan]\n",
    "    \n",
    "    return sol \n",
    "\n",
    "def line(x,x1,x2,y1,y2):\n",
    "    m = (y1-y2)/(x1-x2)\n",
    "    return  m*(x-x1)+y1\n",
    "\n",
    "def g3(NA=100,NB=100,chi=0.001):   \n",
    "    kT = 1.0\n",
    "    binodal = solve_tangent(NA,NB,chi,kT)\n",
    "    spinodal = solve_spinodal(NA,NB,chi,kT)\n",
    "\n",
    "    x = np.linspace(0.001,0.999,100)\n",
    "   \n",
    "    try:\n",
    "        plt.plot(x,F_mix(x,NA,NB,chi,kT))\n",
    "    except:\n",
    "        pass \n",
    "    \n",
    "    try:\n",
    "        plt.scatter(binodal[0],binodal[2],c='red')\n",
    "        plt.scatter(binodal[1],binodal[3],c='red')\n",
    "    except:\n",
    "        pass \n",
    "    \n",
    "    try:\n",
    "        plt.scatter(spinodal[0],spinodal[2],c='green')\n",
    "        plt.scatter(spinodal[1],spinodal[3],c='green')\n",
    "    except:\n",
    "        pass\n",
    "    \n",
    "    try:\n",
    "        plt.plot(x,line(x,*binodal),linestyle='--')\n",
    "    except:\n",
    "        pass \n",
    "    \n",
    "    plt.xlabel('$\\phi$')\n",
    "    plt.ylabel('$\\Delta F_{mix}$')\n",
    "    \n",
    "    plt.tight_layout()\n",
    "    plt.show()\n",
    "\n",
    "q = ipw.interactive(g3,NA=(10,1000,10),NB=(10,1000,10),chi=(0.00, 1, 0.0001));\n",
    "display(q)"
   ]
  },
  {
   "cell_type": "code",
   "execution_count": 4,
   "metadata": {},
   "outputs": [
    {
     "data": {
      "application/vnd.jupyter.widget-view+json": {
       "model_id": "a9ef34e4dbfd4b4ab87561f842ba93a0",
       "version_major": 2,
       "version_minor": 0
      },
      "text/plain": [
       "interactive(children=(IntSlider(value=100, description='NA', max=1000, min=10, step=10), IntSlider(value=100, …"
      ]
     },
     "metadata": {},
     "output_type": "display_data"
    }
   ],
   "source": [
    "def g4(NA=100,NB=100,chi=0.001):   \n",
    "    kT = 1.0\n",
    "    binodal = solve_tangent(NA,NB,chi,kT)\n",
    "    spinodal = solve_spinodal(NA,NB,chi,kT)\n",
    "    print(binodal[0],binodal[3])\n",
    "    print(spinodal[0],spinodal[3])\n",
    "\n",
    "q = ipw.interactive(g4,NA=(10,1000,10),NB=(10,1000,10),chi=(0.00, 1, 0.0001));\n",
    "display(q)"
   ]
  },
  {
   "cell_type": "code",
   "execution_count": null,
   "metadata": {},
   "outputs": [],
   "source": []
  }
 ],
 "metadata": {
  "kernelspec": {
   "display_name": "Python 3 (ipykernel)",
   "language": "python",
   "name": "python3"
  },
  "language_info": {
   "codemirror_mode": {
    "name": "ipython",
    "version": 3
   },
   "file_extension": ".py",
   "mimetype": "text/x-python",
   "name": "python",
   "nbconvert_exporter": "python",
   "pygments_lexer": "ipython3",
   "version": "3.8.5"
  }
 },
 "nbformat": 4,
 "nbformat_minor": 2
}
