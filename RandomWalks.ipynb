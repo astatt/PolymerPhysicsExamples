{
 "cells": [
  {
   "cell_type": "code",
   "execution_count": 1,
   "metadata": {
    "hide_input": false
   },
   "outputs": [],
   "source": [
    "import numpy as np\n",
    "import ipyvolume as ipv\n",
    "import ipywidgets as ipw\n",
    "import scipy\n",
    "from scipy.spatial.transform import Rotation as rot\n",
    "from scipy.spatial.distance import cdist\n",
    "import math\n",
    "import matplotlib\n",
    "import matplotlib.pyplot as plt\n",
    "import random\n",
    "from random import uniform"
   ]
  },
  {
   "cell_type": "code",
   "execution_count": 2,
   "metadata": {
    "code_folding": [
     0,
     15,
     44,
     61,
     105,
     112
    ],
    "hide_input": true
   },
   "outputs": [],
   "source": [
    "def cart2sph(v):\n",
    "    x,y,z = v\n",
    "    XsqPlusYsq = x**2 + y**2\n",
    "    r = np.sqrt(XsqPlusYsq + z**2)                  # r\n",
    "    elev = math.atan2(z,np.sqrt(XsqPlusYsq))        # theta\n",
    "    az = math.atan2(y,x)                            # phi\n",
    "    return np.array([r, elev, az])\n",
    "\n",
    "def sph2cart(v):\n",
    "    r, elev, az = v\n",
    "    x = r * np.sin(elev) * np.cos(az)\n",
    "    y = r * np.sin(elev) * np.sin(az)\n",
    "    z = r * np.cos(elev)\n",
    "    return np.array([x,y,z])\n",
    "\n",
    "def angle(v1, v2):\n",
    "    \"\"\" Returns the angle in degrees between vectors 'v1' and 'v2'\"\"\"\n",
    "    v1_u = v1/np.linalg.norm(v1)\n",
    "    v2_u = v2/np.linalg.norm(v2)\n",
    "    return np.arccos(np.clip(np.dot(v1_u, v2_u), -1.0, 1.0))*180/np.pi\n",
    "\n",
    "def random_point_on_circle(r):\n",
    "    angle = np.random.uniform(0.,2.*np.pi)\n",
    "    x = np.cos(angle)*r \n",
    "    y = np.sin(angle)*r\n",
    "    return np.array([x,y])\n",
    "\n",
    "def random_point_on_lattice(r):\n",
    "    choices = np.array([[0,1],[0,-1],[1,0],[-1,0]])\n",
    "    idx = np.random.choice(len(choices),1)\n",
    "    return choices[idx]*r\n",
    "\n",
    "\n",
    "def random_point_on_shpere(R):\n",
    "    \"\"\" Returns points on a sphere with radius R, uniformly distributed\"\"\"\n",
    "    radius = R*(np.random.uniform(0.,1.))**(1./3.)\n",
    "    theta = np.arccos(np.random.uniform(-1.,1.))\n",
    "    phi = np.random.uniform(0.,2.*np.pi)\n",
    "    v = sph2cart([radius,theta,phi])\n",
    "    return v\n",
    "\n",
    "def regular_points_on_sphere(n,r):\n",
    "    coords = []\n",
    "    alpha = 4.0*np.pi*r*r/n\n",
    "    d = np.sqrt(alpha)\n",
    "    m_nu = int(np.round(np.pi/d))\n",
    "    d_nu = np.pi/m_nu\n",
    "    d_phi = alpha/d_nu\n",
    "    count = 0\n",
    "    for m in range (0,m_nu):\n",
    "        nu = np.pi*(m+0.5)/m_nu\n",
    "        m_phi = int(np.round(2*np.pi*np.sin(nu)/d_phi))\n",
    "        for n in range (0,m_phi):\n",
    "            phi = 2*np.pi*n/m_phi\n",
    "            point = sph2cart([r,nu,phi])\n",
    "            coords.append(point)\n",
    "    return np.asarray(coords)\n",
    "\n",
    "def random_point_on_cone(R,theta,prev):\n",
    "    \"\"\" Returns random vector with length R and angle theta between previos one, uniformly distributed\"\"\"\n",
    "    theta *=np.pi/180.\n",
    "    v = prev/np.linalg.norm(prev)\n",
    "    # find \"mostly orthogonal\" vector to prev\n",
    "    a = np.zeros((3,))\n",
    "    a[np.argmin(np.abs(prev))]=1\n",
    "    # find orthonormal coordinate system {x_hat, y_hat, v}\n",
    "    x_hat = np.cross(a,v)/np.linalg.norm(np.cross(a,v))\n",
    "    y_hat = np.cross(v,x_hat)\n",
    "    # draw random rotation \n",
    "    phi = np.random.uniform(0.,2.*np.pi) \n",
    "    # determine vector (random rotation + rotation with theta to guarantee the right angle between v,w)\n",
    "    w = np.sin(theta)*np.cos(phi)*x_hat + np.sin(theta)*np.sin(phi)*y_hat + np.cos(theta)*v\n",
    "    w *=R\n",
    "    return w\n",
    "\n",
    "def random_coords(N,model,theta):\n",
    "    coords = np.zeros((int(N),3))\n",
    "    coords[1]=[1,0,0]\n",
    "    for i in range(2,int(N)):\n",
    "        if model == 'freely_jointed':\n",
    "            n = random_point_on_shpere(1.0)\n",
    "            new = coords[i-1]+n\n",
    "        if model == 'freely_rotating':\n",
    "            prev = coords[i-2]-coords[i-1]\n",
    "            n = random_point_on_cone(1.0,theta,prev)\n",
    "            new = coords[i-1]+n\n",
    "        coords[i]=new\n",
    "    return coords\n",
    "\n",
    "\n",
    "def random_coords_2D(N,type):\n",
    "    coords = np.zeros((int(N),2))\n",
    "    coords[1]=[1.,0.]\n",
    "    for i in range(2,int(N)):\n",
    "        if type=='continous':\n",
    "            n = random_point_on_circle(1.0)\n",
    "        elif type=='lattice':\n",
    "            n = random_point_on_lattice(1.0)\n",
    "        new = coords[i-1]+n\n",
    "        coords[i]=new\n",
    "    return coords\n",
    "\n",
    "def random_walk(N):\n",
    "    steps = np.random.randint(low = -1, high = 1, size = (N))*2 +1 \n",
    "    random_trajectory = np.cumsum(steps)\n",
    "    random_trajectory = np.concatenate([[0],random_trajectory])\n",
    "    \n",
    "    return random_trajectory\n",
    "\n",
    "def calculate_overlaps(coords):\n",
    "    d = cdist(coords,coords)\n",
    "    i = np.arange(len(coords)).reshape(len(coords),1)\n",
    "    u = cdist(i,i)\n",
    "    q = np.where(np.logical_and(u > 1,d<1) , True, False)\n",
    "    l = np.argwhere(q)\n",
    "    l = np.unique(np.vstack((l[:,0],l[:,1])))\n",
    "    return coords[l.astype(int)]\n",
    "    "
   ]
  },
  {
   "cell_type": "markdown",
   "metadata": {
    "hide_input": true
   },
   "source": [
    "# Random walks\n",
    "## 2D"
   ]
  },
  {
   "cell_type": "code",
   "execution_count": 3,
   "metadata": {
    "hide_input": true
   },
   "outputs": [],
   "source": [
    "n = ipw.widgets.IntText(\n",
    "    value=10,\n",
    "    description='N:',\n",
    "    disabled=False,\n",
    "continuous_update=False)\n",
    "\n",
    "m = ipw.widgets.RadioButtons(\n",
    "    options=['lattice', 'continous'],\n",
    "    description='type:',\n",
    "    disabled=False\n",
    ")  "
   ]
  },
  {
   "cell_type": "code",
   "execution_count": 4,
   "metadata": {
    "scrolled": false
   },
   "outputs": [
    {
     "data": {
      "application/vnd.jupyter.widget-view+json": {
       "model_id": "ea326613f3894d9fbf9a7f6f61136510",
       "version_major": 2,
       "version_minor": 0
      },
      "text/plain": [
       "interactive(children=(IntText(value=10, description='N:'), RadioButtons(description='type:', options=('lattice…"
      ]
     },
     "metadata": {},
     "output_type": "display_data"
    }
   ],
   "source": [
    "%matplotlib notebook\n",
    "def random(n,type,draw_beads):\n",
    "    a = random_coords_2D(n,type)\n",
    "    plt.figure()\n",
    "    plt.plot(a[:,0],a[:,1],color='black',linewidth=0.2)\n",
    "    if draw_beads:\n",
    "        plt.scatter(a[:,0],a[:,1],color='red')\n",
    "    plt.show()\n",
    "    return a\n",
    "\n",
    "#2D\n",
    "walk = ipw.interactive(random,{'manual': True},type=m,n=n,draw_beads=True);\n",
    "display(walk)\n"
   ]
  },
  {
   "cell_type": "markdown",
   "metadata": {},
   "source": [
    "## 3D"
   ]
  },
  {
   "cell_type": "code",
   "execution_count": 5,
   "metadata": {},
   "outputs": [
    {
     "data": {
      "application/vnd.jupyter.widget-view+json": {
       "model_id": "e0f23150a02f486980369a193d5d2391",
       "version_major": 2,
       "version_minor": 0
      },
      "text/plain": [
       "interactive(children=(IntText(value=10, description='N:'), Checkbox(value=True, description='draw_beads'), But…"
      ]
     },
     "metadata": {},
     "output_type": "display_data"
    }
   ],
   "source": [
    "def random(n,draw_beads):\n",
    "    a = random_coords(n,'freely_jointed',0)\n",
    "    ipv.figure(height=400,width=600)\n",
    "    ipv.pylab.plot(a[:,0],a[:,1],a[:,2],color='black')\n",
    "    if draw_beads:\n",
    "        ipv.pylab.scatter(a[:,0],a[:,1],a[:,2],color='red')\n",
    "    ipv.pylab.xyzlabel(' ',' ',' ')\n",
    "    \n",
    "    max = np.max(a)\n",
    "    min = np.min(a)\n",
    "    ipv.pylab.xlim(min, max)\n",
    "    ipv.pylab.ylim(min, max)\n",
    "    ipv.pylab.zlim(min, max)\n",
    "    ipv.show()\n",
    "    return a\n",
    "\n",
    "#3D\n",
    "walk = ipw.interactive(random,{'manual': True},n=n,draw_beads=True);\n",
    "display(walk)"
   ]
  },
  {
   "cell_type": "code",
   "execution_count": null,
   "metadata": {},
   "outputs": [],
   "source": []
  }
 ],
 "metadata": {
  "kernelspec": {
   "display_name": "Python 3",
   "language": "python",
   "name": "python3"
  },
  "language_info": {
   "codemirror_mode": {
    "name": "ipython",
    "version": 3
   },
   "file_extension": ".py",
   "mimetype": "text/x-python",
   "name": "python",
   "nbconvert_exporter": "python",
   "pygments_lexer": "ipython3",
   "version": "3.7.4"
  }
 },
 "nbformat": 4,
 "nbformat_minor": 2
}
