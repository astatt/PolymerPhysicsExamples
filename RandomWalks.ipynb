{
 "cells": [
  {
   "cell_type": "code",
   "execution_count": 1,
   "metadata": {
    "hide_input": false
   },
   "outputs": [
    {
     "data": {
      "text/html": [
       "<script>$(\"div.input\").hide()</script>"
      ],
      "text/plain": [
       "<IPython.core.display.HTML object>"
      ]
     },
     "metadata": {},
     "output_type": "display_data"
    },
    {
     "data": {
      "application/vnd.jupyter.widget-view+json": {
       "model_id": "b34c997982714812a32223ba59c3d27f",
       "version_major": 2,
       "version_minor": 0
      },
      "text/plain": [
       "ToggleButton(value=False, description='Show code')"
      ]
     },
     "metadata": {},
     "output_type": "display_data"
    },
    {
     "data": {
      "text/html": [
       "<script>$(\"div.input\").show()</script>"
      ],
      "text/plain": [
       "<IPython.core.display.HTML object>"
      ]
     },
     "metadata": {},
     "output_type": "display_data"
    }
   ],
   "source": [
    "import ipywidgets as widgets\n",
    "from IPython.display import display, HTML\n",
    "\n",
    "javascript_functions = {False: \"hide()\", True: \"show()\"}\n",
    "button_descriptions  = {False: \"Show code\", True: \"Hide code\"}\n",
    "\n",
    "\n",
    "def toggle_code(state):\n",
    "\n",
    "    \"\"\"\n",
    "    Toggles the JavaScript show()/hide() function on the div.input element.\n",
    "    \"\"\"\n",
    "\n",
    "    output_string = \"<script>$(\\\"div.input\\\").{}</script>\"\n",
    "    output_args   = (javascript_functions[state],)\n",
    "    output        = output_string.format(*output_args)\n",
    "\n",
    "    display(HTML(output))\n",
    "\n",
    "def button_action(value):\n",
    "\n",
    "    \"\"\"\n",
    "    Calls the toggle_code function and updates the button description.\n",
    "    \"\"\"\n",
    "\n",
    "    state = value.new\n",
    "\n",
    "    toggle_code(state)\n",
    "\n",
    "    value.owner.description = button_descriptions[state]\n",
    "\n",
    "\n",
    "state = False\n",
    "toggle_code(state)\n",
    "\n",
    "button = widgets.ToggleButton(state, description = button_descriptions[state])\n",
    "button.observe(button_action, \"value\")\n",
    "\n",
    "display(button)\n",
    "\n",
    "import numpy as np\n",
    "import ipyvolume as ipv\n",
    "import ipywidgets as ipw\n",
    "import scipy\n",
    "from scipy.spatial.transform import Rotation as rot\n",
    "from scipy.spatial.distance import cdist\n",
    "import math\n",
    "import matplotlib\n",
    "import matplotlib.pyplot as plt\n",
    "import random\n",
    "from random import uniform\n",
    "\n",
    "def cart2sph(v):\n",
    "    x,y,z = v\n",
    "    XsqPlusYsq = x**2 + y**2\n",
    "    r = np.sqrt(XsqPlusYsq + z**2)                  # r\n",
    "    elev = math.atan2(z,np.sqrt(XsqPlusYsq))        # theta\n",
    "    az = math.atan2(y,x)                            # phi\n",
    "    return np.array([r, elev, az])\n",
    "\n",
    "def sph2cart(v):\n",
    "    r, elev, az = v\n",
    "    x = r * np.sin(elev) * np.cos(az)\n",
    "    y = r * np.sin(elev) * np.sin(az)\n",
    "    z = r * np.cos(elev)\n",
    "    return np.array([x,y,z])\n",
    "\n",
    "def angle(v1, v2):\n",
    "    \"\"\" Returns the angle in degrees between vectors 'v1' and 'v2'\"\"\"\n",
    "    v1_u = v1/np.linalg.norm(v1)\n",
    "    v2_u = v2/np.linalg.norm(v2)\n",
    "    return np.arccos(np.clip(np.dot(v1_u, v2_u), -1.0, 1.0))*180/np.pi\n",
    "\n",
    "def random_point_on_circle(r):\n",
    "    angle = np.random.uniform(0.,2.*np.pi)\n",
    "    x = np.cos(angle)*r \n",
    "    y = np.sin(angle)*r\n",
    "    return np.array([x,y])\n",
    "\n",
    "def random_point_on_lattice(r):\n",
    "    choices = np.array([[0,1],[0,-1],[1,0],[-1,0]])\n",
    "    idx = np.random.choice(len(choices),1)\n",
    "    return choices[idx]*r\n",
    "\n",
    "\n",
    "def random_point_on_shpere(R):\n",
    "    \"\"\" Returns points on a sphere with radius R, uniformly distributed\"\"\"\n",
    "    radius = R*(np.random.uniform(0.,1.))**(1./3.)\n",
    "    theta = np.arccos(np.random.uniform(-1.,1.))\n",
    "    phi = np.random.uniform(0.,2.*np.pi)\n",
    "    v = sph2cart([radius,theta,phi])\n",
    "    return v\n",
    "\n",
    "def regular_points_on_sphere(n,r):\n",
    "    coords = []\n",
    "    alpha = 4.0*np.pi*r*r/n\n",
    "    d = np.sqrt(alpha)\n",
    "    m_nu = int(np.round(np.pi/d))\n",
    "    d_nu = np.pi/m_nu\n",
    "    d_phi = alpha/d_nu\n",
    "    count = 0\n",
    "    for m in range (0,m_nu):\n",
    "        nu = np.pi*(m+0.5)/m_nu\n",
    "        m_phi = int(np.round(2*np.pi*np.sin(nu)/d_phi))\n",
    "        for n in range (0,m_phi):\n",
    "            phi = 2*np.pi*n/m_phi\n",
    "            point = sph2cart([r,nu,phi])\n",
    "            coords.append(point)\n",
    "    return np.asarray(coords)\n",
    "\n",
    "def random_point_on_cone(R,theta,prev):\n",
    "    \"\"\" Returns random vector with length R and angle theta between previos one, uniformly distributed\"\"\"\n",
    "    theta *=np.pi/180.\n",
    "    v = prev/np.linalg.norm(prev)\n",
    "    # find \"mostly orthogonal\" vector to prev\n",
    "    a = np.zeros((3,))\n",
    "    a[np.argmin(np.abs(prev))]=1\n",
    "    # find orthonormal coordinate system {x_hat, y_hat, v}\n",
    "    x_hat = np.cross(a,v)/np.linalg.norm(np.cross(a,v))\n",
    "    y_hat = np.cross(v,x_hat)\n",
    "    # draw random rotation \n",
    "    phi = np.random.uniform(0.,2.*np.pi) \n",
    "    # determine vector (random rotation + rotation with theta to guarantee the right angle between v,w)\n",
    "    w = np.sin(theta)*np.cos(phi)*x_hat + np.sin(theta)*np.sin(phi)*y_hat + np.cos(theta)*v\n",
    "    w *=R\n",
    "    return w\n",
    "\n",
    "def random_coords(N,model,theta):\n",
    "    coords = np.zeros((int(N),3))\n",
    "    coords[1]=[1,0,0]\n",
    "    for i in range(2,int(N)):\n",
    "        if model == 'freely_jointed':\n",
    "            n = random_point_on_shpere(1.0)\n",
    "            new = coords[i-1]+n\n",
    "        if model == 'freely_rotating':\n",
    "            prev = coords[i-2]-coords[i-1]\n",
    "            n = random_point_on_cone(1.0,theta,prev)\n",
    "            new = coords[i-1]+n\n",
    "        coords[i]=new\n",
    "    return coords\n",
    "\n",
    "\n",
    "def random_coords_2D(N,type):\n",
    "    coords = np.zeros((int(N),2))\n",
    "    coords[1]=[1.,0.]\n",
    "    for i in range(2,int(N)):\n",
    "        if type=='continous':\n",
    "            n = random_point_on_circle(1.0)\n",
    "        elif type=='lattice':\n",
    "            n = random_point_on_lattice(1.0)\n",
    "        new = coords[i-1]+n\n",
    "        coords[i]=new\n",
    "    return coords\n",
    "\n",
    "def random_walk(N):\n",
    "    steps = np.random.randint(low = -1, high = 1, size = (N))*2 +1 \n",
    "    random_trajectory = np.cumsum(steps)\n",
    "    random_trajectory = np.concatenate([[0],random_trajectory])\n",
    "    \n",
    "    return random_trajectory\n",
    "\n",
    "def calculate_overlaps(coords):\n",
    "    d = cdist(coords,coords)\n",
    "    i = np.arange(len(coords)).reshape(len(coords),1)\n",
    "    u = cdist(i,i)\n",
    "    q = np.where(np.logical_and(u > 1,d<1) , True, False)\n",
    "    l = np.argwhere(q)\n",
    "    l = np.unique(np.vstack((l[:,0],l[:,1])))\n",
    "    return coords[l.astype(int)]\n",
    "    \n",
    "\n",
    "\n",
    "n = ipw.widgets.IntText(\n",
    "    value=10,\n",
    "    description='N:',\n",
    "    disabled=False,\n",
    "continuous_update=False)\n",
    "\n",
    "m = ipw.widgets.RadioButtons(\n",
    "    options=['lattice', 'continous'],\n",
    "    description='type:',\n",
    "    disabled=False\n",
    ")  \n",
    "\n",
    "%matplotlib notebook\n",
    "def random2D(n,type,draw_beads):\n",
    "    a = random_coords_2D(n,type)\n",
    "    plt.figure()\n",
    "    plt.plot(a[:,0],a[:,1],color='black',linewidth=0.2)\n",
    "    if draw_beads:\n",
    "        plt.scatter(a[:,0],a[:,1],color='red')\n",
    "    plt.show()\n",
    "    return a\n",
    "\n",
    "def random3D(n,draw_beads):\n",
    "    a = random_coords(n,'freely_jointed',0)\n",
    "    ipv.figure(height=400,width=600)\n",
    "    ipv.pylab.plot(a[:,0],a[:,1],a[:,2],color='black')\n",
    "    if draw_beads:\n",
    "        ipv.pylab.scatter(a[:,0],a[:,1],a[:,2],color='red')\n",
    "    ipv.pylab.xyzlabel(' ',' ',' ')\n",
    "    \n",
    "    max = np.max(a)\n",
    "    min = np.min(a)\n",
    "    ipv.pylab.xlim(min, max)\n",
    "    ipv.pylab.ylim(min, max)\n",
    "    ipv.pylab.zlim(min, max)\n",
    "    ipv.show()\n",
    "    return a"
   ]
  },
  {
   "cell_type": "markdown",
   "metadata": {
    "code_folding": []
   },
   "source": [
    "# Random walks \n",
    "## 1D"
   ]
  },
  {
   "cell_type": "code",
   "execution_count": 2,
   "metadata": {
    "scrolled": true
   },
   "outputs": [
    {
     "data": {
      "application/vnd.jupyter.widget-view+json": {
       "model_id": "a5e4ff8dd41744faa2f28092446f8548",
       "version_major": 2,
       "version_minor": 0
      },
      "text/plain": [
       "interactive(children=(IntSlider(value=10, description='Length N:', max=1000, min=1), IntSlider(value=1, descri…"
      ]
     },
     "metadata": {},
     "output_type": "display_data"
    }
   ],
   "source": [
    "# 1D random walk\n",
    "\n",
    "n = ipw.widgets.IntSlider(\n",
    "    value=1,\n",
    "    min=1,\n",
    "    max=1000,\n",
    "    step=1,\n",
    "    description='# walks:',\n",
    "    disabled=False)\n",
    "\n",
    "N = ipw.widgets.IntSlider(\n",
    "    min=1,\n",
    "    max=1000,\n",
    "    step=1,\n",
    "    value=10,\n",
    "    description='Length N:',\n",
    "    disabled=False)\n",
    "\n",
    "def g(N=100,n=1):\n",
    "    plt.figure()\n",
    "    for i in np.arange(n):\n",
    "        a = random_walk(N)\n",
    "        plt.step(np.arange(N+1),a)\n",
    "       # plt.scatter(np.arange(N+1),a)\n",
    "    plt.xlabel('N')\n",
    "    plt.ylabel('x')\n",
    "    plt.show()\n",
    "\n",
    "q = ipw.interactive(g,{'manual': True}, n=n,N=N );\n",
    "display(q)\n",
    "\n",
    "#q = ipw.interactive(g,{'manual': True}, n=n2,N=N2,draw_approx=appr);\n",
    "#display(q)"
   ]
  },
  {
   "cell_type": "code",
   "execution_count": 3,
   "metadata": {},
   "outputs": [
    {
     "data": {
      "application/vnd.jupyter.widget-view+json": {
       "model_id": "607473c3ee0c442a855f7f3d11e8490f",
       "version_major": 2,
       "version_minor": 0
      },
      "text/plain": [
       "interactive(children=(IntSlider(value=10, description='Length N:', max=1000, min=1), IntSlider(value=1, descri…"
      ]
     },
     "metadata": {},
     "output_type": "display_data"
    }
   ],
   "source": [
    "n2 = ipw.widgets.IntSlider(\n",
    "    value=1,\n",
    "    min=1,\n",
    "    max=1000,\n",
    "    step=1,\n",
    "    description='# walks:',\n",
    "    disabled=False)\n",
    "\n",
    "N2 = ipw.widgets.IntSlider(\n",
    "    min=1,\n",
    "    max=1000,\n",
    "    step=1,\n",
    "    value=10,\n",
    "    description='Length N:',\n",
    "    disabled=False)\n",
    "\n",
    "appr = ipw.widgets.Checkbox(\n",
    "    value=False,\n",
    "    description='Draw Gaussian approximation',\n",
    "    disabled=False,\n",
    "    indent=False\n",
    ")\n",
    "\n",
    "def g2(N=100,n=1,draw_approx=False):\n",
    "    f, (ax1, ax2) = plt.subplots(1, 2,sharey=True)\n",
    "    end_points=[]\n",
    "    for i in np.arange(n):\n",
    "        a = random_walk(N)\n",
    "        end_points.append(a[-1])\n",
    "        ax1.step(np.arange(N+1),a,alpha=0.1,c='b')\n",
    "    ax1.set_xlabel('N')\n",
    "    ax1.set_ylabel('x')\n",
    "    ax2.hist(end_points,orientation='horizontal',density=True)\n",
    "    ax2.set_xlabel('norm. counts')\n",
    "    ax2.set_ylabel('x_end')\n",
    "    if draw_approx==True:\n",
    "        x =np.linspace(np.min(end_points),np.max(end_points))\n",
    "        y = 1./np.sqrt(2*np.pi*N)*np.exp(-x**2/(float(2*N)))\n",
    "        ax2.plot(y,x)\n",
    "    plt.tight_layout()\n",
    "    plt.show()\n",
    "    \n",
    "q = ipw.interactive(g2,{'manual': True}, n=n2,N=N2,draw_approx=appr);\n",
    "display(q)    "
   ]
  },
  {
   "cell_type": "markdown",
   "metadata": {},
   "source": [
    "## 2D"
   ]
  },
  {
   "cell_type": "code",
   "execution_count": 4,
   "metadata": {},
   "outputs": [
    {
     "data": {
      "application/vnd.jupyter.widget-view+json": {
       "model_id": "45ce6a883665446783e44a9f1f66ebcd",
       "version_major": 2,
       "version_minor": 0
      },
      "text/plain": [
       "interactive(children=(IntSlider(value=1, description='# walks:', max=1000, min=1), RadioButtons(description='t…"
      ]
     },
     "metadata": {},
     "output_type": "display_data"
    }
   ],
   "source": [
    "walk = ipw.interactive(random2D,{'manual': True},type=m,n=n,draw_beads=True);\n",
    "display(walk)\n",
    "\n"
   ]
  },
  {
   "cell_type": "markdown",
   "metadata": {},
   "source": [
    "## 3D"
   ]
  },
  {
   "cell_type": "code",
   "execution_count": 5,
   "metadata": {
    "scrolled": true
   },
   "outputs": [
    {
     "data": {
      "application/vnd.jupyter.widget-view+json": {
       "model_id": "c089c69788ef440da3035f2a712e3bb8",
       "version_major": 2,
       "version_minor": 0
      },
      "text/plain": [
       "interactive(children=(IntSlider(value=1, description='# walks:', max=1000, min=1), Checkbox(value=True, descri…"
      ]
     },
     "metadata": {},
     "output_type": "display_data"
    }
   ],
   "source": [
    "walk = ipw.interactive(random3D,{'manual': True},n=n,draw_beads=True);\n",
    "display(walk)"
   ]
  },
  {
   "cell_type": "code",
   "execution_count": 6,
   "metadata": {},
   "outputs": [
    {
     "data": {
      "application/vnd.jupyter.widget-view+json": {
       "model_id": "f65ea17ff6674ab1a3576311cde4d369",
       "version_major": 2,
       "version_minor": 0
      },
      "text/plain": [
       "interactive(children=(IntSlider(value=100, description='N', max=1000, min=1), IntSlider(value=1, description='…"
      ]
     },
     "metadata": {},
     "output_type": "display_data"
    }
   ],
   "source": [
    "def g4(N=100,n=1,draw_gaussian=False):\n",
    "    f, (ax1, ax2) = plt.subplots(1, 2)\n",
    "    ipv.figure(height=400,width=600)\n",
    "    end_lenghts=[]\n",
    "    rainbow  = matplotlib.cm.get_cmap('rainbow')\n",
    "    colors = rainbow(np.linspace(0.0,1.0,n))\n",
    "    max = -1000\n",
    "    min = 1000\n",
    "    for i in np.arange(n):\n",
    "        a = random_coords(N,'freely_jointed',0.0)\n",
    "        max = np.max([max,np.max(a)])\n",
    "        min = np.min([min,np.min(a)])\n",
    "        end_to_end_dist_length = np.linalg.norm(a[-1]-a[0])\n",
    "        end_lenghts.append(end_to_end_dist_length)\n",
    "    \n",
    "        ipv.pylab.plot(a[:,0],a[:,1],a[:,2],color=colors[i],alpha=0.1)\n",
    "  \n",
    "    ipv.pylab.xyzlabel(' ',' ',' ')\n",
    "\n",
    "    ipv.pylab.xlim(min, max)\n",
    "    ipv.pylab.ylim(min, max)\n",
    "    ipv.pylab.zlim(min, max)\n",
    "    \n",
    "    ax1.scatter(np.arange(n),end_lenghts,color=colors)\n",
    "    \n",
    "    ax1.set_xlabel('n')\n",
    "    ax1.set_ylabel('|R|')\n",
    "    \n",
    "    hist, bin_edges = np.histogram(end_lenghts)\n",
    "    factor = 4./3. * np.pi \n",
    "    radii = bin_edges[:-1]\n",
    "    radii_right = bin_edges[1:]\n",
    "    hist_normalized = hist* (radii_right**2 - radii**2)\n",
    "    \n",
    "    center = (bin_edges[:-1] + bin_edges[1:]) / 2\n",
    "    ax2.bar(center,hist_normalized)\n",
    "\n",
    "    ax2.set_xlabel('norm. counts')\n",
    "    ax2.set_ylabel('|R|')\n",
    "    if draw_gaussian==True:\n",
    "        x =np.linspace(0,np.max(end_lenghts))\n",
    "        y = (3./(2*np.pi*N))**(3./2.)*np.exp(-3*x**2/(float(2*N)))*x**2\n",
    "        ax2.plot(x,y*np.max(hist_normalized)/np.max(y))\n",
    "    plt.tight_layout()\n",
    "    ipv.show()\n",
    "    plt.show()\n",
    "    \n",
    "# radnom walk statistics in 3D    \n",
    "q = ipw.interactive(g4,{'manual': True}, n=(1,1000,1),N=(1,1000,1),draw_gaussian=False);\n",
    "display(q)    "
   ]
  },
  {
   "cell_type": "code",
   "execution_count": null,
   "metadata": {},
   "outputs": [],
   "source": []
  }
 ],
 "metadata": {
  "kernelspec": {
   "display_name": "Python 3",
   "language": "python",
   "name": "python3"
  },
  "language_info": {
   "codemirror_mode": {
    "name": "ipython",
    "version": 3
   },
   "file_extension": ".py",
   "mimetype": "text/x-python",
   "name": "python",
   "nbconvert_exporter": "python",
   "pygments_lexer": "ipython3",
   "version": "3.7.4"
  }
 },
 "nbformat": 4,
 "nbformat_minor": 2
}
